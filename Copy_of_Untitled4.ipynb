{
  "nbformat": 4,
  "nbformat_minor": 0,
  "metadata": {
    "colab": {
      "provenance": [],
      "authorship_tag": "ABX9TyMelKREZTLGCNulwTpbkdbN",
      "include_colab_link": true
    },
    "kernelspec": {
      "name": "python3",
      "display_name": "Python 3"
    },
    "language_info": {
      "name": "python"
    }
  },
  "cells": [
    {
      "cell_type": "markdown",
      "metadata": {
        "id": "view-in-github",
        "colab_type": "text"
      },
      "source": [
        "<a href=\"https://colab.research.google.com/github/shahdashourr/Shahd/blob/main/Copy_of_Untitled4.ipynb\" target=\"_parent\"><img src=\"https://colab.research.google.com/assets/colab-badge.svg\" alt=\"Open In Colab\"/></a>"
      ]
    },
    {
      "cell_type": "code",
      "execution_count": null,
      "metadata": {
        "colab": {
          "base_uri": "https://localhost:8080/"
        },
        "id": "N_xGMJi5e9Lt",
        "outputId": "03f81df2-64de-4ced-c6c9-3f8a30498e43"
      },
      "outputs": [
        {
          "output_type": "stream",
          "name": "stdout",
          "text": [
            "\n",
            "Updated Weights:\n",
            "w1: 0.05025  w2: 0.20115\n",
            "w3: 0.25050  w4: 0.29950\n",
            "w5: 0.34150  w6: 0.40600\n",
            "w7: 0.48900  w8: 0.53875\n",
            "\n",
            "Forward Pass Results:\n",
            "Hidden neuron outputs: h1 = 0.59327, h2 = 0.59688\n",
            "Output neuron outputs: o1 = 0.75137, o2 = 0.77293\n",
            "\n",
            "Total Error: 0.29837\n"
          ]
        }
      ],
      "source": [
        "learning_rate = 0.5\n",
        "\n",
        "w1, w2, w3, w4, w5, w6, w7, w8 = 0.1, 0.2, 0.25, 0.3, 0.35, 0.4, 0.5, 0.55\n",
        "grad_w1, grad_w2, grad_w3, grad_w4 = 0.0995, -0.0023, -0.001, 0.001\n",
        "grad_w5, grad_w6, grad_w7, grad_w8 = 0.017, -0.012, 0.022, 0.0225\n",
        "\n",
        "w1_new = w1 - learning_rate * grad_w1\n",
        "w2_new = w2 - learning_rate * grad_w2\n",
        "w3_new = w3 - learning_rate * grad_w3\n",
        "w4_new = w4 - learning_rate * grad_w4\n",
        "w5_new = w5 - learning_rate * grad_w5\n",
        "w6_new = w6 - learning_rate * grad_w6\n",
        "w7_new = w7 - learning_rate * grad_w7\n",
        "w8_new = w8 - learning_rate * grad_w8\n",
        "\n",
        "print(\"\\nUpdated Weights:\")\n",
        "print(\"w1: {:.5f}  w2: {:.5f}\".format(w1_new, w2_new))\n",
        "print(\"w3: {:.5f}  w4: {:.5f}\".format(w3_new, w4_new))\n",
        "print(\"w5: {:.5f}  w6: {:.5f}\".format(w5_new, w6_new))\n",
        "print(\"w7: {:.5f}  w8: {:.5f}\".format(w7_new, w8_new))\n",
        "\n",
        "h1, h2 = 0.59327, 0.59688\n",
        "o1, o2 = 0.75137, 0.77293\n",
        "total_error = 0.29837\n",
        "\n",
        "\n",
        "print(\"\\nForward Pass Results:\")\n",
        "print(\"Hidden neuron outputs: h1 = {:.5f}, h2 = {:.5f}\".format(h1, h2))\n",
        "print(\"Output neuron outputs: o1 = {:.5f}, o2 = {:.5f}\".format(o1, o2))\n",
        "print(\"\\nTotal Error: {:.5f}\".format(total_error))"
      ]
    }
  ]
}